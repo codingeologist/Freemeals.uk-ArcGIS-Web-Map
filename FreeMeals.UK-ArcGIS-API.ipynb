import pandas as pd
import geopandas as gpd
from arcgis.gis import GIS
from arcgis.features import SpatialDataFrame
gis = GIS(username='coding.geologist.dev', password='Geo9ogy8*!')

json_url = 'https://freemeals.uk/.netlify/functions/providers/?location\=All'
df1 = pd.read_json(json_url)
df1 = gpd.GeoDataFrame(df1, geometry=gpd.points_from_xy(df1.longitude, df1.latitude))
df1.rename(columns={'geometry':'LOCATION'})
df1 = df1.to_csv('./SHP/kidsmeals.csv')

csv_file = './SHP/kidsmeals.csv'
csv_item = gis.content.add({}, csv_file)
csv_lyr = csv_item.publish()
