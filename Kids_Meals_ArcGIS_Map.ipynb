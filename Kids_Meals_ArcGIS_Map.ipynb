{
 "cells": [
  {
   "cell_type": "code",
   "execution_count": 1,
   "metadata": {},
   "outputs": [],
   "source": [
    "import pandas as pd\n",
    "import geopandas as gpd\n",
    "from arcgis.gis import GIS\n",
    "from arcgis.features import SpatialDataFrame\n",
    "gis = GIS(username='coding.geologist.dev', password='Geo9ogy8*!')\n",
    "\n",
    "json_url = 'https://freemeals.uk/.netlify/functions/providers/?location\\=All'\n",
    "df1 = pd.read_json(json_url)\n",
    "df1 = gpd.GeoDataFrame(df1, geometry=gpd.points_from_xy(df1.longitude, df1.latitude))\n",
    "df1.rename(columns={'geometry':'LOCATION'})\n",
    "df1 = df1.to_csv('./SHP/kidsmeals.csv')\n",
    "\n",
    "csv_file = './SHP/kidsmeals.csv'\n",
    "csv_item = gis.content.add({}, csv_file)\n",
    "csv_lyr = csv_item.publish()"
   ]
  }
 ],
 "metadata": {
  "kernelspec": {
   "display_name": "Python 3",
   "language": "python",
   "name": "python3"
  },
  "language_info": {
   "codemirror_mode": {
    "name": "ipython",
    "version": 3
   },
   "file_extension": ".py",
   "mimetype": "text/x-python",
   "name": "python",
   "nbconvert_exporter": "python",
   "pygments_lexer": "ipython3",
   "version": "3.6.8"
  }
 },
 "nbformat": 4,
 "nbformat_minor": 4
}
